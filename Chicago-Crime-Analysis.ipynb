{
  "nbformat": 4,
  "nbformat_minor": 0,
  "metadata": {
    "colab": {
      "provenance": []
    },
    "kernelspec": {
      "name": "python3",
      "display_name": "Python 3"
    },
    "language_info": {
      "name": "python"
    }
  },
  "cells": [
    {
      "cell_type": "markdown",
      "source": [
        "### **Data Cleaning**\n"
      ],
      "metadata": {
        "id": "c9gA0VgEibt8"
      }
    },
    {
      "cell_type": "code",
      "execution_count": null,
      "metadata": {
        "id": "gGwYG81kc0Lf"
      },
      "outputs": [],
      "source": [
        "import pandas as pd\n",
        "\n",
        "# Load the Chicago Crime Dataset (replace with your local path)\n",
        "crime_data = pd.read_csv('/content/Crimes_-_2001_to_Present.csv')\n",
        "\n",
        "# Display the first few rows\n",
        "print(crime_data.head())\n",
        "\n",
        "# Check for missing values\n",
        "print(crime_data.isnull().sum())\n",
        "\n",
        "# Drop rows with missing values in key columns based on your dataset\n",
        "crime_data.dropna(subset=['Date', 'Primary Type', 'Location Description', 'Latitude', 'Longitude'], inplace=True)\n",
        "\n",
        "# Convert the 'Date' column to datetime format\n",
        "crime_data['Date'] = pd.to_datetime(crime_data['Date'])\n",
        "\n",
        "# Now the data is clean and ready for further analysis or plotting\n",
        "\n"
      ]
    },
    {
      "cell_type": "code",
      "source": [
        "print(crime_data.columns)\n"
      ],
      "metadata": {
        "id": "LeIHirJ3jXKK"
      },
      "execution_count": null,
      "outputs": []
    },
    {
      "cell_type": "markdown",
      "source": [
        "### **Top 10 Crimes in Chicago**"
      ],
      "metadata": {
        "id": "ZVfq-VrXvbIh"
      }
    },
    {
      "cell_type": "code",
      "source": [
        "import matplotlib.pyplot as plt\n",
        "import seaborn as sns\n",
        "\n",
        "# Group by 'Primary Type' to get the number of occurrences of each crime type\n",
        "top_10_crimes = crime_data['Primary Type'].value_counts().nlargest(10)\n",
        "\n",
        "# Convert the result into a DataFrame for easier plotting\n",
        "top_10_crimes_df = top_10_crimes.reset_index()\n",
        "top_10_crimes_df.columns = ['Crime Type', 'Count']\n",
        "\n",
        "# Plot the top 10 crimes using Seaborn\n",
        "plt.figure(figsize=(10, 6))\n",
        "sns.barplot(data=top_10_crimes_df, x='Count', y='Crime Type', palette='coolwarm')\n",
        "\n",
        "# Add plot titles and labels\n",
        "plt.title('Top 10 Crimes in Chicago', fontsize=16)\n",
        "plt.xlabel('Number of Incidents', fontsize=12)\n",
        "plt.ylabel('Crime Type', fontsize=12)\n",
        "\n",
        "# Display the plot\n",
        "plt.tight_layout()\n",
        "plt.show()\n"
      ],
      "metadata": {
        "id": "nzgBgg5BjF5x"
      },
      "execution_count": null,
      "outputs": []
    },
    {
      "cell_type": "markdown",
      "source": [
        "### **Year wise Crime Analysis**"
      ],
      "metadata": {
        "id": "JfsiGLwdvJ1E"
      }
    },
    {
      "cell_type": "code",
      "source": [
        "import matplotlib.pyplot as plt\n",
        "import seaborn as sns\n",
        "\n",
        "# Group the data by 'Year' and count the number of crimes per year\n",
        "yearly_crimes = crime_data['Year'].value_counts().sort_index()\n",
        "\n",
        "# Convert to a DataFrame for easier plotting\n",
        "yearly_crimes_df = yearly_crimes.reset_index()\n",
        "yearly_crimes_df.columns = ['Year', 'Crime Count']\n",
        "\n",
        "# Plot the year-wise crimes\n",
        "plt.figure(figsize=(10, 6))\n",
        "sns.lineplot(data=yearly_crimes_df, x='Year', y='Crime Count', marker='o', color='b')\n",
        "\n",
        "# Add titles and labels\n",
        "plt.title('Year-wise Total Crimes in Chicago', fontsize=16)\n",
        "plt.xlabel('Year', fontsize=12)\n",
        "plt.ylabel('Number of Crimes', fontsize=12)\n",
        "\n",
        "# Improve plot aesthetics\n",
        "plt.xticks(rotation=45)\n",
        "plt.grid(True)\n",
        "plt.tight_layout()\n",
        "\n",
        "# Show the plot\n",
        "plt.show()\n"
      ],
      "metadata": {
        "id": "X_ZBGm0Qkm98"
      },
      "execution_count": null,
      "outputs": []
    },
    {
      "cell_type": "code",
      "source": [
        "import matplotlib.pyplot as plt\n",
        "import seaborn as sns\n",
        "import pandas as pd\n",
        "\n",
        "# Group by 'Year' and 'Primary Type', then count the number of crimes\n",
        "yearly_crime_types = crime_data.groupby(['Year', 'Primary Type']).size().reset_index(name='Crime Count')\n",
        "\n",
        "# For each year, find the crime type with the highest count\n",
        "top_crimes_per_year = yearly_crime_types.loc[yearly_crime_types.groupby('Year')['Crime Count'].idxmax()]\n",
        "\n",
        "# Sort by year for plotting\n",
        "top_crimes_per_year = top_crimes_per_year.sort_values(by='Year')\n",
        "\n",
        "# Plot the year-wise top crimes\n",
        "plt.figure(figsize=(12, 6))\n",
        "sns.barplot(data=top_crimes_per_year, x='Year', y='Crime Count', hue='Primary Type', dodge=False, palette='viridis')\n",
        "\n",
        "# Add titles and labels\n",
        "plt.title('Year-wise Top Crimes in Chicago', fontsize=16)\n",
        "plt.xlabel('Year', fontsize=12)\n",
        "plt.ylabel('Number of Crimes', fontsize=12)\n",
        "\n",
        "# Improve plot aesthetics\n",
        "plt.xticks(rotation=45)\n",
        "plt.legend(title='Top Crime Type', bbox_to_anchor=(1.05, 1), loc='upper left')\n",
        "plt.tight_layout()\n",
        "\n",
        "# Show the plot\n",
        "plt.show()\n"
      ],
      "metadata": {
        "id": "JvxSojXek47o"
      },
      "execution_count": null,
      "outputs": []
    },
    {
      "cell_type": "markdown",
      "source": [
        "### **Top 10 Crimes by Region**"
      ],
      "metadata": {
        "id": "TtZKiW6Oun9u"
      }
    },
    {
      "cell_type": "code",
      "source": [
        "import folium\n",
        "\n",
        "# Create a base map centered around Chicago\n",
        "chicago_map = folium.Map(location=[41.8781, -87.6298], zoom_start=11)\n",
        "\n",
        "# Add crime points to the map\n",
        "for _, row in crime_data.iterrows():\n",
        "    folium.CircleMarker(\n",
        "        location=(row['Latitude'], row['Longitude']),\n",
        "        radius=3,\n",
        "        color='blue',\n",
        "        fill=True,\n",
        "        fill_color='blue',\n",
        "        fill_opacity=0.6,\n",
        "        popup=row['Primary Type']\n",
        "    ).add_to(chicago_map)\n",
        "\n",
        "# Save the map as an HTML file\n",
        "chicago_map.save('chicago_crime_map.html')\n",
        "\n",
        "# To display in Jupyter/Colab, use the following:\n",
        "chicago_map\n"
      ],
      "metadata": {
        "id": "nV8AM6IgjExp"
      },
      "execution_count": null,
      "outputs": []
    },
    {
      "cell_type": "code",
      "source": [
        "import folium\n",
        "from folium.plugins import MarkerCluster\n",
        "\n",
        "# Step 1: Filter data for the top 10 crimes over all years\n",
        "top_10_crimes = crime_data['Primary Type'].value_counts().nlargest(10).index\n",
        "top_crimes_data = crime_data[crime_data['Primary Type'].isin(top_10_crimes)]\n",
        "\n",
        "# Step 2: Create a folium map centered around Chicago\n",
        "chicago_map = folium.Map(location=[41.8781, -87.6298], zoom_start=11)\n",
        "\n",
        "# Step 3: Add MarkerCluster to group markers for easier visualization\n",
        "marker_cluster = MarkerCluster().add_to(chicago_map)\n",
        "\n",
        "# Step 4: Add markers to the map for each crime\n",
        "for idx, row in top_crimes_data.iterrows():\n",
        "    crime_type = row['Primary Type']\n",
        "    year = row['Year']\n",
        "    location = (row['Latitude'], row['Longitude'])\n",
        "\n",
        "    # Add each crime as a marker with a popup\n",
        "    folium.Marker(\n",
        "        location=location,\n",
        "        popup=f\"Crime: {crime_type}<br>Year: {year}<br>Location: {row['Location Description']}\",\n",
        "        icon=folium.Icon(color='red' if crime_type == 'THEFT' else 'blue', icon='info-sign')\n",
        "    ).add_to(marker_cluster)\n",
        "\n",
        "# Step 5: Save the map to an HTML file\n",
        "chicago_map.save('top_10_crimes_chicago_map.html')\n",
        "\n",
        "# Display a message that the map has been saved\n",
        "print(\"Map has been created and saved as 'top_10_crimes_chicago_map.html'.\")\n",
        "\n",
        "\n"
      ],
      "metadata": {
        "id": "3fb-r0cyk-T2"
      },
      "execution_count": null,
      "outputs": []
    },
    {
      "cell_type": "code",
      "source": [
        "from IPython.display import IFrame\n",
        "\n",
        "# Display the saved map in Colab\n",
        "IFrame('top_10_crimes_chicago_map.html', width=800, height=600)\n"
      ],
      "metadata": {
        "id": "GMcA7U_wlaFF"
      },
      "execution_count": null,
      "outputs": []
    },
    {
      "cell_type": "code",
      "source": [
        "marker_cluster\n",
        "from google.colab import files\n",
        "\n",
        "# Download the HTML map file\n",
        "#files.download('top_10_crimes_chicago_map.html')\n",
        "\n",
        "chicago_map\n"
      ],
      "metadata": {
        "id": "BJQU0cl0lnAZ"
      },
      "execution_count": null,
      "outputs": []
    },
    {
      "cell_type": "markdown",
      "source": [
        "### **Total number of Arrest**\n"
      ],
      "metadata": {
        "id": "k3pdZDdsuN8w"
      }
    },
    {
      "cell_type": "code",
      "source": [
        "import matplotlib.pyplot as plt\n",
        "import seaborn as sns\n",
        "\n",
        "# Group by the 'Arrest' column and count the number of occurrences\n",
        "arrest_data = crime_data['Arrest'].value_counts().reset_index()\n",
        "arrest_data.columns = ['Arrest Status', 'Count']\n",
        "\n",
        "# Plotting the data\n",
        "plt.figure(figsize=(8, 6))\n",
        "sns.barplot(data=arrest_data, x='Arrest Status', y='Count', palette='coolwarm')\n",
        "plt.title('Number of Arrests vs Non-Arrests')\n",
        "plt.xlabel('Arrest Status')\n",
        "plt.ylabel('Number of Cases')\n",
        "plt.xticks([0, 1], ['Not Arrested', 'Arrested'])  # Customize labels\n",
        "plt.tight_layout()\n",
        "plt.show()\n"
      ],
      "metadata": {
        "id": "TAe2GXE6mviU"
      },
      "execution_count": null,
      "outputs": []
    },
    {
      "cell_type": "markdown",
      "source": [
        "### **Year that has Highest Rate of** **Crime**\n"
      ],
      "metadata": {
        "id": "Gw6jLuGVt6qc"
      }
    },
    {
      "cell_type": "code",
      "source": [
        "import matplotlib.pyplot as plt\n",
        "import seaborn as sns\n",
        "\n",
        "# Group by 'Year' and count the number of crimes\n",
        "crime_per_year = crime_data['Year'].value_counts().reset_index()\n",
        "crime_per_year.columns = ['Year', 'Total Crimes']\n",
        "\n",
        "# Sort the data by Year for better visualization\n",
        "crime_per_year.sort_values(by='Year', inplace=True)\n",
        "\n",
        "# Plotting the data using a line plot\n",
        "plt.figure(figsize=(14, 8))\n",
        "sns.set_theme(style=\"whitegrid\")  # Set theme for better aesthetics\n",
        "line_plot = sns.lineplot(data=crime_per_year, x='Year', y='Total Crimes', marker='o', color='blue')\n",
        "\n",
        "# Title and labels\n",
        "plt.title('Total Crimes in Chicago (Yearly Overview)', fontsize=16, fontweight='bold')\n",
        "plt.xlabel('Year', fontsize=14)\n",
        "plt.ylabel('Total Number of Crimes', fontsize=14)\n",
        "\n",
        "# Add data labels on the points\n",
        "for i in range(len(crime_per_year)):\n",
        "    line_plot.text(crime_per_year['Year'].iloc[i], crime_per_year['Total Crimes'].iloc[i],\n",
        "                   f\"{crime_per_year['Total Crimes'].iloc[i]}\",\n",
        "                   ha='center', va='bottom', fontsize=10)\n",
        "\n",
        "# Highlight the year with the maximum crimes\n",
        "max_crime_year = crime_per_year.loc[crime_per_year['Total Crimes'].idxmax()]\n",
        "plt.axvline(x=max_crime_year['Year'], color='red', linestyle='--', label='Highest Crime Year')\n",
        "plt.text(max_crime_year['Year'], max_crime_year['Total Crimes'],\n",
        "         f\"Max: {max_crime_year['Total Crimes']}\",\n",
        "         color='red', fontsize=12, ha='left')\n",
        "\n",
        "# Add legend\n",
        "plt.legend()\n",
        "\n",
        "# Show grid\n",
        "plt.grid(visible=True)\n",
        "\n",
        "# Show the plot\n",
        "plt.tight_layout()\n",
        "plt.show()\n",
        "\n",
        "# Print the year with the highest number of crimes\n",
        "print(f'The year with the highest number of crimes is {max_crime_year[\"Year\"]} with {max_crime_year[\"Total Crimes\"]} crimes.')\n"
      ],
      "metadata": {
        "id": "JE01_LdRmwHj"
      },
      "execution_count": null,
      "outputs": []
    },
    {
      "cell_type": "markdown",
      "source": [
        "### **Summary of the Analysis**\n"
      ],
      "metadata": {
        "id": "KeVVCdiGtgGC"
      }
    },
    {
      "cell_type": "code",
      "source": [
        "import pandas as pd\n",
        "import matplotlib.pyplot as plt\n",
        "\n",
        "# Load your crime data\n",
        "crime_data = pd.read_csv('/content/Crimes_-_2001_to_Present.csv')\n",
        "\n",
        "# Group the data by Year to summarize total crimes and arrests\n",
        "crime_summary = crime_data.groupby('Year').agg(\n",
        "    Total_Crimes=('Primary Type', 'count'),\n",
        "    Total_Arrests=('Arrest', 'sum')\n",
        ").reset_index()\n",
        "\n",
        "# Check data types and convert if necessary\n",
        "crime_summary['Total_Crimes'] = pd.to_numeric(crime_summary['Total_Crimes'], errors='coerce')\n",
        "crime_summary['Total_Arrests'] = pd.to_numeric(crime_summary['Total_Arrests'], errors='coerce')\n",
        "\n",
        "# Calculate the total arrests and crimes\n",
        "total_arrests = crime_summary['Total_Arrests'].sum()\n",
        "total_crimes = crime_summary['Total_Crimes'].sum()\n",
        "\n",
        "# Define safety criteria based on arrests\n",
        "if total_crimes > 0:\n",
        "    if total_arrests / total_crimes > 0.5:  # If arrests are more than 50% of total crimes\n",
        "        safe_count = 1\n",
        "        not_safe_count = 0\n",
        "    else:\n",
        "        safe_count = 0\n",
        "        not_safe_count = 1\n",
        "else:\n",
        "    safe_count = 0\n",
        "    not_safe_count = 1  # If no crimes, consider it \"Not Safe\"\n",
        "\n",
        "# Data for pie chart\n",
        "labels = ['Safe', 'Not Safe']\n",
        "sizes = [safe_count, not_safe_count]\n",
        "colors = ['lightgreen', 'lightcoral']\n",
        "\n",
        "# Create the pie chart\n",
        "plt.figure(figsize=(8, 6))\n",
        "wedges, texts, autotexts = plt.pie(sizes, labels=labels, colors=colors, autopct='%1.1f%%', startangle=90, shadow=True)\n",
        "\n",
        "# Add a legend\n",
        "plt.legend(wedges, labels, title=\"Safety Status\", loc=\"upper right\", bbox_to_anchor=(1.3, 1))\n",
        "\n",
        "plt.title('Safety Status of Chicago Based on Crime Data', fontsize=14, fontweight='bold')\n",
        "plt.axis('equal')  # Equal aspect ratio ensures that pie is drawn as a circle.\n",
        "\n",
        "# Show the plot\n",
        "plt.show()\n"
      ],
      "metadata": {
        "id": "cfVFsXHJpdIh"
      },
      "execution_count": null,
      "outputs": []
    }
  ]
}
